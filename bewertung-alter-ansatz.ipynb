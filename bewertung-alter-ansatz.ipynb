{
 "cells": [
  {
   "cell_type": "code",
   "execution_count": null,
   "metadata": {},
   "outputs": [],
   "source": [
    "## Veraltte. Die Werte existieren nicht mehr.\n",
    "\n",
    "instanceOrdering = getInstanceGraphEdgesPost(net)\n",
    "for instance in log:\n",
    "    nodes, edges, nodeEventDict = genInstanceGraphInsEdgeBase(instance,instanceOrdering)\n",
    "\n",
    "print(len(indexNichtInModell))\n",
    "print(len(indexMultipleInModell))\n",
    "indexNichtInModellSet = set(indexNichtInModell)\n",
    "indexMultipleInModellSet = set(indexMultipleInModell)\n",
    "print(len(indexNichtInModellSet))\n",
    "print(len(indexMultipleInModellSet))\n",
    "print(len(net.transitions))"
   ]
  },
  {
   "cell_type": "markdown",
   "metadata": {},
   "source": [
    "### Bewertung verfahren (Fitness PetriNet)\n",
    "Stand 04.01.22 Ansatz über Transitionen iterieren.  \n",
    "\n",
    "113 von 439 Transitionen in 6576 Fällen werden von dem in den Traces nicht erfasst, also 25%.  \n",
    "Hierzu sei angemerkt, dass 439 Transitionen im Petri Netz existieren. Insgesamt besitzt der Datensatz 181 Aktivitäten.  \n",
    "Problem 1: Andere Aktivitäten sind nicht im Modell. Für diese lässt sich daher keine CR bestimmen.\n",
    "\n",
    "108 Transitionen in 2729 Fällen kommen mehrfach in einen Trace. In so einem Fall, wird jedoch nur eine Casual Relation einmal hinzugefügt. Würde die Aktivität ein zweites mal im PetriNetz auftauchen werden die Relationen entsprechend ein weiteres mal auf Casual Relation untersucht.  \n",
    "Probleme 2: Im Trace kommt kein zweites mal ein Event vor, jedoch im PetriNetz/Modell => es würde ein CR erstellt werden.\n",
    "\n",
    "\n",
    "Lösung und warum so lassen, wie es ist: Aus CR Richtung, unterscheide mithilfe der Ressource(?); aus PetriNetz Richtung: sie sind als unterschiedliche Events durch den Transnamen identifiziert. jedoch erschwert sich eine Zuordnung.  \n",
    "Erwäge erste For Schleife mit Trace zu belegen und 2 For Schleife mit Transitionen? Vermutlich kein Änderungen. wir müssten dann eine weitere For schleife haben, die über alle Transitionen iteriert, um die CR für alle zu erhalten. Wir könne schwer identifizieren, ob es sie um dieselbe Aktivitäten wie im Trace handelt. Das würde den Code sehr verkomplizieren. \n",
    "Können wir es so lassen wie es aktuell ist? - Dann sind alle CR aus dem Petri Nets abgebildet, aber doppelte vorkommen Aktivitäten/Transitionen im Model, werden als dieselbe bewertet, bsp. ABA.\n",
    "Womöglich kein Problem.\n",
    "Hier sind Korrekturen nötig"
   ]
  }
 ],
 "metadata": {
  "language_info": {
   "name": "python"
  },
  "orig_nbformat": 4
 },
 "nbformat": 4,
 "nbformat_minor": 2
}
