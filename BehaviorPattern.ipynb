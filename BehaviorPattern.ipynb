{
 "cells": [
  {
   "cell_type": "markdown",
   "metadata": {},
   "source": [
    "# Implemention of the behavior Pattern Method\n",
    "nach \n",
    "Diamantini, C., Genga, L. & Potena, D. Behavioral process mining for unstructured processes. J Intell Inf Syst 47, 5–32 (2016). https://doi.org/10.1007/s10844-016-0394-7"
   ]
  },
  {
   "cell_type": "code",
   "execution_count": 1,
   "metadata": {},
   "outputs": [],
   "source": [
    "import pm4py\n",
    "from pm4py.objects.log.obj import EventLog\n",
    "from pm4py.objects.log.obj import Event\n",
    "from pm4py.objects.log.obj import Trace\n",
    "import os"
   ]
  },
  {
   "cell_type": "markdown",
   "metadata": {},
   "source": [
    "## Import XES File\n",
    "from https://pm4py.fit.fraunhofer.de/documentation#item-impoort-xes\n",
    "\n",
    "Event Log, und Trace: https://pm4py.fit.fraunhofer.de/static/assets/api/2.2.16/pm4py.objects.log.html?highlight=objects%20log%20obj%20eventlog#pm4py.objects.log.obj.EventLog\n",
    "\n",
    "EventLog[] => Trace\n",
    "\n",
    "EventLog[][] => Event of Trace"
   ]
  },
  {
   "cell_type": "code",
   "execution_count": 2,
   "metadata": {},
   "outputs": [],
   "source": [
    "from pm4py.objects.log.importer.xes import importer as xes_importer"
   ]
  },
  {
   "cell_type": "code",
   "execution_count": 3,
   "metadata": {},
   "outputs": [
    {
     "name": "stderr",
     "output_type": "stream",
     "text": [
      "parsing log, completed traces :: 100%|██████████| 81/81 [00:00<00:00, 86.04it/s]\n"
     ]
    }
   ],
   "source": [
    "path = \"datasets/02_TestCompletedFFF_onlyTaskItems_simpleFilter.xes\"\n",
    "# path = \"datasets/01_TestCompletedFFF_IDtoString_removeTransitionClassifier.xes\"\n",
    "log = xes_importer.apply(path)"
   ]
  },
  {
   "cell_type": "markdown",
   "metadata": {},
   "source": [
    "## Get Casual Relation with Inductive Miner infrequent\n",
    "from https://pm4py.fit.fraunhofer.de/documentation#item-3-2 \n",
    "\n",
    "Dauer ca. 2min"
   ]
  },
  {
   "cell_type": "code",
   "execution_count": 4,
   "metadata": {},
   "outputs": [],
   "source": [
    "from pm4py.algo.discovery.inductive import algorithm as inductive_miner\n",
    "from pm4py.objects.petri_net.exporter import exporter as pnml_exporter\n",
    "from pm4py.objects.petri_net.importer import importer as pnml_importer\n"
   ]
  },
  {
   "cell_type": "code",
   "execution_count": 5,
   "metadata": {},
   "outputs": [
    {
     "data": {
      "text/plain": [
       "' # Log gefiltert\\nfiltered_log = pm4py.filter_case_size(log, 40, 200) # 40, 200 => 540;\\nnet, initial_marking, final_marking = inductive_miner.apply(filtered_log,variant=variantIM)\\npnml_exporter.apply(net, initial_marking, \"output/petri_filtered.pnml\", final_marking=final_marking) \\n'"
      ]
     },
     "execution_count": 5,
     "metadata": {},
     "output_type": "execute_result"
    }
   ],
   "source": [
    "variantIM = inductive_miner.Variants.IMf\n",
    "# Log\n",
    "net, initial_marking, final_marking = inductive_miner.apply(log,variant=variantIM)\n",
    "pnml_exporter.apply(net, initial_marking, \"output/petri_net_full.pnml\", final_marking=final_marking) \n",
    "\n",
    "\n",
    "\"\"\" # Log gefiltert\n",
    "filtered_log = pm4py.filter_case_size(log, 40, 200) # 40, 200 => 540;\n",
    "net, initial_marking, final_marking = inductive_miner.apply(filtered_log,variant=variantIM)\n",
    "pnml_exporter.apply(net, initial_marking, \"output/petri_filtered.pnml\", final_marking=final_marking) \n",
    "\"\"\""
   ]
  },
  {
   "cell_type": "markdown",
   "metadata": {},
   "source": [
    "### Import Petri Net"
   ]
  },
  {
   "cell_type": "code",
   "execution_count": 6,
   "metadata": {},
   "outputs": [],
   "source": [
    "# Full Petri Net\n",
    "# net, initial_marking, final_marking = pnml_importer.apply(os.path.join(\"output/petri_net_full.pnml\"))\n",
    "\n",
    "# Filtered Petri Net\n",
    "# net, initial_marking, final_marking = pnml_importer.apply(os.path.join(\"output/petri_filtered.pnml\"))\n"
   ]
  },
  {
   "cell_type": "markdown",
   "metadata": {},
   "source": [
    "## From Petri Netz zu Instance Ordering  \n",
    "### Casual Relation:\n",
    "\n",
    "Zwei events i, j haben eine Causal Relation, wenn i erst abgeschlossen werden muss, damit j ausgeführt werden kann.\n",
    "\n",
    "### Instance Ordering: \n",
    "\n",
    "i, j und k sind Events; i<k<j\n",
    "Es besteht eine CR Relation zwischen i und j;\n",
    "und\n",
    "(Es darf keine CR Relation zwischen i und k:\n",
    "Oder \n",
    "Es darf keine CR Relation zwischen k und j geben;)\n",
    "\n",
    "Bezug zum PetriNetz, welches als Grundlage für die CR Relation verwendet wird:\n",
    "\n",
    "Ein Event ist im Petri Netz eine Transition; der Aktivitäten Name kann über Label aufgerufen werden.\n",
    "\n",
    "Siehe hierzu auch\n",
    "https://pm4py.fit.fraunhofer.de/static/assets/api/2.2.16/pm4py.objects.petri_net.html?highlight=petrinet#pm4py.objects.petri_net.obj.PetriNet\n",
    "\n",
    "https://pm4py.fit.fraunhofer.de/documentation#item-4-2"
   ]
  },
  {
   "cell_type": "code",
   "execution_count": 7,
   "metadata": {},
   "outputs": [],
   "source": [
    "from pm4py.objects.petri_net.obj import PetriNet\n"
   ]
  },
  {
   "cell_type": "code",
   "execution_count": 17,
   "metadata": {},
   "outputs": [
    {
     "name": "stdout",
     "output_type": "stream",
     "text": [
      "{'lifecycle:transition': 'start', 'time:timestamp': datetime.datetime(2019, 11, 21, 8, 50, 53, tzinfo=datetime.timezone(datetime.timedelta(seconds=3600))), 'cdb_process_id': 'P00062660', 'concept:instance': 327087, 'concept:name': 'Product Modification Responsible is correctly assigned?', 'description': 'The task has been completed.  parts to be changed added', 'division': 'TD', 'msgtype': 'DONE', 'org:resource': '1079aa99-2699-11ec-8124-0050568b0d8f', 'task_id': 'T00010248'}\n",
      "Product Modification Responsible is correctly assigned?\n"
     ]
    },
    {
     "data": {
      "text/plain": [
       "' for trans in net.transitions:\\n    print(trans.in_arcs) '"
      ]
     },
     "execution_count": 17,
     "metadata": {},
     "output_type": "execute_result"
    }
   ],
   "source": [
    "# Print Einsicht\n",
    "## print(len(log)) \n",
    "## type is trace, is also eine sequence\n",
    "event = log[2][0]\n",
    "print(event)\n",
    "print(event['concept:name'])\n",
    "\n",
    "\"\"\" place = net.places\n",
    "print(place)\n",
    "print(place.name)\n",
    "\n",
    "arc = place.in_arcs[0]\n",
    "print(arc.source.name, arc.source.label) \"\"\"\n",
    "\n",
    "\"\"\" places = net.places\n",
    "for place in places:\n",
    " print(\"\\nPLACE: \"+place.name)\n",
    " for arc in place.in_arcs:\n",
    "  print(arc.source.name, arc.source.label) \"\"\"\n",
    "\n",
    "\"\"\" print(net.arcs)\n",
    "print(net.places)\n",
    "print(net.transitions) \"\"\"\n",
    "\"\"\" print(net.places)\n",
    "print(net.transitions) \"\"\"\n",
    "\n",
    "\"\"\" for trans in net.transitions:\n",
    "    print(trans.in_arcs) \"\"\"\n",
    "\n",
    "## print(net.arcs[0].name)\n"
   ]
  },
  {
   "cell_type": "code",
   "execution_count": 9,
   "metadata": {},
   "outputs": [],
   "source": [
    "def calculateCaRelToPreTransitions(trans: PetriNet.Transition):\n",
    "    casualRelTrans = set()\n",
    "    for transArc in trans.in_arcs:\n",
    "    ## get inarcs of place source\n",
    "        for placeArc in transArc.source.in_arcs:\n",
    "            casualRelTrans.add(placeArc.source)\n",
    "    return casualRelTrans\n",
    "\n",
    "def genInstanceOrdering(trace: Trace, net: PetriNet):\n",
    "    traceList = list(trace) ## Aktivitäten könne doppelt vorkommen, aber muss nur einmal Cr berechnen, daher set, Problme set erkennt gleiche strings nicht als unterchiedlich!\n",
    "    casualRelation = set()\n",
    "    for trans in net.transitions:\n",
    "        currentTransLabel = trans.label\n",
    "        def isTransInTrace(event):\n",
    "            return currentTransLabel == event['concept:name'] \n",
    "        filteredItems = set(filter(isTransInTrace, traceList))\n",
    "        ## Achtung eine Aktivität kann mehrfach auftreten, wie umgehen, damit?\n",
    "        ##print(len(filteredItems))\n",
    "        if(len(filteredItems)>0):\n",
    "            ## print(currentTransLabel, \"is in Trace\") \n",
    "            casualRelTransitions = calculateCaRelToPreTransitions(trans)\n",
    "            ## remove for performance; TODO: überprüfe Annahme: jede Aktivität taucht nur einmal als Transition auf!\n",
    "            for event in filteredItems:\n",
    "                traceList.remove(event)\n",
    "            for casualRelTrans in casualRelTransitions:\n",
    "                casualRelation.add((casualRelTrans.label, currentTransLabel))\n",
    "    #  Rückgabe ist menge der \n",
    "    return casualRelation\n"
   ]
  },
  {
   "cell_type": "markdown",
   "metadata": {},
   "source": [
    "Verbesserung des Algorithmus beim Iteration über alle Logs: Verhindere doppelte CR Berechnung, wenn schon für Aktivität Berechnet\n",
    "\n",
    "Ansatz:\n",
    "Sichere berechnetet CR Relationen und speichere Aktivität für die berechnet in Liste. Frage in jeder Iteration ab, ob schon berechnet?\n",
    "\n",
    "Frage Wirklich Verbesserung? Da nun jedes mal über die Liste der Aktivitäten, für die schon berechnet wurde Iteriert wird."
   ]
  },
  {
   "cell_type": "code",
   "execution_count": 14,
   "metadata": {},
   "outputs": [
    {
     "name": "stdout",
     "output_type": "stream",
     "text": [
      "<class 'pm4py.objects.log.obj.EventLog'>\n"
     ]
    },
    {
     "data": {
      "text/plain": [
       "' for trace in log:\\n    crSet = genCR(trace,net)\\n    print(len(crSet))\\n    for cr in crSet: \\n        print(cr) '"
      ]
     },
     "execution_count": 14,
     "metadata": {},
     "output_type": "execute_result"
    }
   ],
   "source": [
    "\n",
    "\"\"\" for trace in log:\n",
    "    crSet = genCR(trace,net)\n",
    "    print(len(crSet))\n",
    "    for cr in crSet: \n",
    "        print(cr) \"\"\""
   ]
  },
  {
   "cell_type": "code",
   "execution_count": 11,
   "metadata": {},
   "outputs": [],
   "source": [
    "## alter Ansatz\n",
    "\n",
    "def getTuplesWithEvent(ev: Event, arcs):\n",
    "    arcsList = set()\n",
    "    #print(arcs)\n",
    "    for arc in arcs:\n",
    "        #print(type(arc))\n",
    "        \"\"\" if(arc == ev['concept:name'] or arc== ev['concept:name']):\n",
    "            print('YAY')\n",
    "            arcsList.add(arc) \"\"\"\n",
    "    return arcsList\n",
    "    \n",
    "def checkCasualRelation(ev1: Event, ev2:Event, net: PetriNet)-> bool:\n",
    "    tuple = (ev1['concept:name'], ev2['concept:name'])\n",
    "    ## print(tuple)\n",
    "    ## TODO: wie machen wir hier die Vergleich: greife auf die CasualRelation Eigenschaft zu\n",
    "    arcList = getTuplesWithEvent(ev1, net.arcs)\n",
    "    arcList2 = getTuplesWithEvent(ev1, arcList)\n",
    "    hasRelation = len(arcList2)>0\n",
    "    ## hasRelation = tuple in net.arcs\n",
    "    if(hasRelation):\n",
    "        print('YAY Treffer')\n",
    "        print(tuple)\n",
    "    return hasRelation\n",
    "\n",
    "from collections.abc import Sequence\n",
    "def getInstanceOrdering(trace: Trace, net: PetriNet)->Sequence[tuple]:\n",
    "    instanceOrderingSet = set()\n",
    "    for idx, event in enumerate(trace):\n",
    "        nextIndex = idx+1\n",
    "        ##print(trace)\n",
    "        if(nextIndex > len(trace)-1):\n",
    "            print(\"For break\")\n",
    "            break\n",
    "        event2 = trace[nextIndex]\n",
    "        hasCasualRelation = False\n",
    "\n",
    "        while(not hasCasualRelation):\n",
    "            if(nextIndex > len(trace)-1):\n",
    "                print(\"while break\")\n",
    "                break\n",
    "            event2 = trace[nextIndex]\n",
    "            hasCasualRelation = checkCasualRelation(event, event2, net)\n",
    "            nextIndex = nextIndex+1\n",
    "\n",
    "        if (hasCasualRelation):\n",
    "            instanceOrderingSet.add((event, event2))\n",
    "\n",
    "    return instanceOrderingSet"
   ]
  },
  {
   "cell_type": "markdown",
   "metadata": {},
   "source": [
    "## Instance Graphen\n",
    "\n",
    "### Event Log\n",
    "https://pm4py.fit.fraunhofer.de/static/assets/api/2.2.16/pm4py.objects.log.html?highlight=eventlog#pm4py.objects.log.obj.EventLog\n",
    "\n"
   ]
  },
  {
   "cell_type": "code",
   "execution_count": 18,
   "metadata": {},
   "outputs": [
    {
     "ename": "AttributeError",
     "evalue": "'set' object has no attribute 'append'",
     "output_type": "error",
     "traceback": [
      "\u001b[1;31m---------------------------------------------------------------------------\u001b[0m",
      "\u001b[1;31mAttributeError\u001b[0m                            Traceback (most recent call last)",
      "\u001b[1;32m~\\AppData\\Local\\Temp/ipykernel_9352/3923469338.py\u001b[0m in \u001b[0;36m<module>\u001b[1;34m\u001b[0m\n\u001b[0;32m     15\u001b[0m     \u001b[0mvertices\u001b[0m \u001b[1;33m=\u001b[0m \u001b[0mset\u001b[0m\u001b[1;33m(\u001b[0m\u001b[1;33m)\u001b[0m\u001b[1;33m\u001b[0m\u001b[1;33m\u001b[0m\u001b[0m\n\u001b[0;32m     16\u001b[0m     \u001b[1;32mfor\u001b[0m \u001b[0mevent\u001b[0m \u001b[1;32min\u001b[0m \u001b[0mtrace\u001b[0m\u001b[1;33m:\u001b[0m\u001b[1;33m\u001b[0m\u001b[1;33m\u001b[0m\u001b[0m\n\u001b[1;32m---> 17\u001b[1;33m         \u001b[0mvertices\u001b[0m\u001b[1;33m.\u001b[0m\u001b[0mappend\u001b[0m\u001b[1;33m(\u001b[0m\u001b[0mevent\u001b[0m\u001b[1;33m[\u001b[0m\u001b[1;34m'division'\u001b[0m\u001b[1;33m]\u001b[0m \u001b[1;33m+\u001b[0m \u001b[1;34m':::'\u001b[0m \u001b[1;33m+\u001b[0m \u001b[0mevent\u001b[0m\u001b[1;33m[\u001b[0m\u001b[1;34m'concept:name'\u001b[0m\u001b[1;33m]\u001b[0m\u001b[1;33m)\u001b[0m\u001b[1;33m\u001b[0m\u001b[1;33m\u001b[0m\u001b[0m\n\u001b[0m\u001b[0;32m     18\u001b[0m \u001b[1;33m\u001b[0m\u001b[0m\n\u001b[0;32m     19\u001b[0m \u001b[1;33m\u001b[0m\u001b[0m\n",
      "\u001b[1;31mAttributeError\u001b[0m: 'set' object has no attribute 'append'"
     ]
    }
   ],
   "source": [
    "\n",
    "class InstanceGraph:\n",
    "    vertices = {}\n",
    "\n",
    "    edges = {}\n",
    "\n",
    "    def __init__(self, trace: set, instaceOrdering: Sequence[tuple]):\n",
    "        self.vertices = trace\n",
    "        self.edges = instaceOrdering\n",
    "\n",
    "    def getName(self, label):\n",
    "        return label\n",
    "\n",
    "instanceGraphSet = set()\n",
    "for trace in log:\n",
    "    nodes = set()\n",
    "    nodeEventDict = dict()\n",
    "    # Nodes\n",
    "    for event in trace:\n",
    "        vertice = event['division'] + ':::' + event['concept:name']\n",
    "        nodes.add(vertice)\n",
    "        nodeEventDict[vertice] = event\n",
    "    # Kanten, aber nicht in Edge Form\n",
    "    instOrdering = genInstanceOrdering(trace, net)\n",
    "    edges = instOrdering\n",
    "\n",
    "    instanceGraphSet.append((nodes, edges, nodeEventDict))\n"
   ]
  },
  {
   "cell_type": "code",
   "execution_count": null,
   "metadata": {},
   "outputs": [],
   "source": []
  },
  {
   "cell_type": "markdown",
   "metadata": {},
   "source": [
    "### Visualisierung Instance Graphen\n",
    "\n",
    "\n",
    "Bibliothek NetworkX Data Struktur\n",
    "\n",
    "https://networkx.org/documentation/stable/tutorial.html\n",
    "\n",
    "https://networkx.org/documentation/stable/reference/classes/digraph.html\n",
    "\n",
    "https://www.youtube.com/watch?v=xREnpVUbkFI"
   ]
  },
  {
   "cell_type": "code",
   "execution_count": null,
   "metadata": {},
   "outputs": [],
   "source": []
  },
  {
   "cell_type": "markdown",
   "metadata": {},
   "source": [
    "## Substructure Evaluation\n",
    "\n",
    "Kapitel 5.2.1 Substructures evaluation\n",
    "\n",
    "diversity,\n",
    "completeness (coverage of the model),\n",
    "Repräsentativität,\n",
    "Häufigkeit (substrukturen),"
   ]
  },
  {
   "cell_type": "markdown",
   "metadata": {},
   "source": []
  }
 ],
 "metadata": {
  "interpreter": {
   "hash": "a566e299bf5fe8c775101170393a567e016e91b4fa80c81dd3436e39bbf8223c"
  },
  "kernelspec": {
   "display_name": "Python 3.9.7 64-bit ('base': conda)",
   "language": "python",
   "name": "python3"
  },
  "language_info": {
   "codemirror_mode": {
    "name": "ipython",
    "version": 3
   },
   "file_extension": ".py",
   "mimetype": "text/x-python",
   "name": "python",
   "nbconvert_exporter": "python",
   "pygments_lexer": "ipython3",
   "version": "3.9.7"
  },
  "orig_nbformat": 4
 },
 "nbformat": 4,
 "nbformat_minor": 2
}
